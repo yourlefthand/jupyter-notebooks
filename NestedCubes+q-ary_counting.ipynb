{
 "cells": [
  {
   "cell_type": "markdown",
   "metadata": {},
   "source": [
    "# Q-Ary Counting+Cube Iteration"
   ]
  },
  {
   "cell_type": "code",
   "execution_count": null,
   "metadata": {
    "collapsed": false
   },
   "outputs": [],
   "source": [
    "%matplotlib inline"
   ]
  },
  {
   "cell_type": "markdown",
   "metadata": {},
   "source": [
    "So, counting in a base q system with n dimensions will resolve the various n-dimensional points within a system of size q\n",
    "\n",
    "This gives us a good system for generating combinations for a symmetrical coordinate system - line, square, cube, tesseract\n",
    "\n",
    "this maps a linear, natural sequence range(q^n) for example - to iterate across the n-space\n",
    "\n",
    "this topology can be manipulated arithmetically for relative shifts in space. \n",
    "\n",
    "but more interestingly, the sequence of natural numbers can be re-mapped to some other counting such that the 'unwrapping' of the coordinate system does not take the 'usual' bottom corner to top opposite corner - but some other pattern represented in the internal coherence of the q-ary counting system"
   ]
  },
  {
   "cell_type": "code",
   "execution_count": null,
   "metadata": {
    "collapsed": true
   },
   "outputs": [],
   "source": [
    "import numpy as np\n",
    "\n",
    "def base_n_encode(base, bits, value):\n",
    "    base_n = [None] * bits\n",
    "    for i in range(bits):\n",
    "        base_n[i] = value % base\n",
    "        value = value / base\n",
    "    return base_n"
   ]
  },
  {
   "cell_type": "markdown",
   "metadata": {},
   "source": [
    "above we have the function that will take a base counting system, a number of 'bits' (digits really, whatever y'all) and the (base-10) integer that we want to encode. I know this isn't terribly pythonic, but it's really just C code I'm recycling"
   ]
  },
  {
   "cell_type": "code",
   "execution_count": null,
   "metadata": {
    "collapsed": false
   },
   "outputs": [],
   "source": [
    "dimensions = 3\n",
    "cube_edge = 65\n",
    "cuboid_three_edge = 3\n",
    "cuboid_five_edge = 5\n",
    "cuboid_seven_edge = 7 \n",
    "cuboid_thirty_three_edge = 33\n",
    "\n",
    "cube = np.asarray([(np.asarray(base_n_encode(cube_edge, dimensions, x)) - (cube_edge/2)) for x in np.arange(cube_edge ** dimensions)])\n",
    "\n",
    "cuboid_three = np.asarray([(np.asarray(base_n_encode(cuboid_three_edge, dimensions, x)) - (cuboid_three_edge/2)) for x in np.arange(cuboid_three_edge ** dimensions)])\n",
    "\n",
    "cuboid_five = np.asarray([(np.asarray(base_n_encode(cuboid_five_edge, dimensions, x)) - (cuboid_five_edge/2)) for x in np.arange(cuboid_five_edge ** dimensions)])\n",
    "\n",
    "cuboid_seven = np.asarray([(np.asarray(base_n_encode(cuboid_seven_edge, dimensions, x)) - (cuboid_seven_edge/2)) for x in np.arange(cuboid_seven_edge ** dimensions)])\n",
    "\n",
    "cuboid_thirty_three = np.asarray([(np.asarray(base_n_encode(cuboid_thirty_three_edge, dimensions, x)) - (cuboid_thirty_three_edge/2)) for x in np.arange(cuboid_thirty_three_edge ** dimensions)])"
   ]
  },
  {
   "cell_type": "code",
   "execution_count": null,
   "metadata": {
    "collapsed": false,
    "scrolled": false
   },
   "outputs": [],
   "source": [
    "import numpy as np\n",
    "from mpl_toolkits.mplot3d import Axes3D\n",
    "import matplotlib.pyplot as plt\n",
    "\n",
    "def plot_3d(points):\n",
    "    fig = plt.figure()\n",
    "    ax = fig.add_subplot(1,1,1, projection='3d')\n",
    "    surf = ax.scatter(points[:,0],points[:,1],points[:,2], c = (points[:,0] + points[:,1]))\n",
    "    plt.gca().set_aspect('equal', adjustable='box')\n",
    "    plt.show()\n",
    "\n",
    "plot_3d(cuboid_three)\n",
    "plot_3d(cuboid_five)\n",
    "plot_3d(cuboid_seven)\n",
    "plot_3d(cuboid_thirty_three)"
   ]
  },
  {
   "cell_type": "markdown",
   "metadata": {},
   "source": [
    "above we created 4 cubes with sides of those given lengths.\n",
    "the cube & cuboids above have also been 'centered' such that each row gives a relative coordinate system to the origin. If we discover the interrelationships of these coordinates within these three systems, we may be able to intuit other alternative numbering systems that would let us walk cubes in fun ways"
   ]
  },
  {
   "cell_type": "code",
   "execution_count": null,
   "metadata": {
    "collapsed": true
   },
   "outputs": [],
   "source": [
    "def wrap_cube(edge, dimensions, center=True):\n",
    "    drive = np.arange(edge ** dimensions)\n",
    "    coords = np.zeros((edge ** dimensions, dimensions))\n",
    "    for d in range(dimensions):\n",
    "        coords[:, d] = (drive[:]/(edge ** d)) % edge\n",
    "    if center:\n",
    "        coords = coords - (edge/2)\n",
    "    return coords\n",
    "\n",
    "def unwrap_cube(cube, base, centered=True):\n",
    "    indices = np.zeros((cube.shape[0]))\n",
    "    dimensions = cube.shape[1]\n",
    "    if centered:\n",
    "        cube = cube + (base/2)\n",
    "    for d in range(dimensions):\n",
    "        indices[:] += cube[:,d] * (base ** d)\n",
    "    return indices"
   ]
  },
  {
   "cell_type": "markdown",
   "metadata": {},
   "source": [
    "I've refactored our discoveries above - now we have a (mostly) numpy oriented method for creating our 'cubes' - O(n) where n is the number of dimensions being iterated on.\n",
    "\n",
    "Similarly, unwrap cube performs the function of the 'ravel' above.\n",
    "Here we put the cube we're unwrapping in the 'context' of a counting base - the size of the retina, then counts the numbers back out - giving us the 'indices' of the coordinates in context of that major cube !\n",
    "\n",
    "next, we'll try to put these cubes in context of one another, in an effort "
   ]
  },
  {
   "cell_type": "code",
   "execution_count": null,
   "metadata": {
    "collapsed": false
   },
   "outputs": [],
   "source": [
    "total_cube = [np.zeros(0)]\n",
    "onion_cube = []\n",
    "\n",
    "retina_size = 65\n",
    "\n",
    "for j in range(1, 67, 2):\n",
    "    this_cube = wrap_cube(j, dimensions)\n",
    "    unwrap_this_cube = unwrap_cube(this_cube, retina_size)\n",
    "    onion_cube.append(np.setdiff1d(unwrap_this_cube, total_cube[-1]))\n",
    "    total_cube.append(unwrap_this_cube)\n",
    "    "
   ]
  },
  {
   "cell_type": "code",
   "execution_count": null,
   "metadata": {
    "collapsed": false
   },
   "outputs": [],
   "source": [
    "def plot_1d(points,offset,color):\n",
    "    plt.plot(points, np.zeros_like(points)+offset, '.', c=color)\n",
    "    \n",
    "for ind, val in enumerate(onion_cube):\n",
    "    plot_1d(val, ind, np.random.rand(3,1))\n",
    "    \n",
    "plt.xlim([-25375, 300000])\n",
    "plt.show()"
   ]
  },
  {
   "cell_type": "code",
   "execution_count": null,
   "metadata": {
    "collapsed": false
   },
   "outputs": [],
   "source": [
    "flat_onion = np.concatenate(onion_cube)\n",
    "x_vals = np.arange(flat_onion.shape[0])\n",
    "\n",
    "plt.plot(x_vals[:], flat_onion[:], '.', linewidth=1, color=np.random.rand(3,1))\n",
    "plt.ylabel(\"integer passed into base_n coordinate generator\")\n",
    "plt.xlabel(\"iterator value\")\n",
    "plt.xlim([0, flat_onion.shape[0]])\n",
    "plt.show()\n"
   ]
  },
  {
   "cell_type": "code",
   "execution_count": null,
   "metadata": {
    "collapsed": false,
    "scrolled": false
   },
   "outputs": [],
   "source": [
    "alternating_onion_cube = []\n",
    "\n",
    "for ind, val in enumerate(onion_cube):\n",
    "    if (ind % 2 == 1):\n",
    "        val = val[::-1]\n",
    "    alternating_onion_cube.append(val)\n",
    "    \n",
    "flat_alternating_onion = np.concatenate(alternating_onion_cube)    \n",
    "\n",
    "x_vals = np.arange(flat_alternating_onion.shape[0])\n",
    "\n",
    "plt.plot(x_vals[:], flat_alternating_onion[:], '.', linewidth=1, color=np.random.rand(3,1))\n",
    "plt.ylabel(\"integer passed into base_n coordinate generator\")\n",
    "plt.xlabel(\"iterator value\")\n",
    "plt.xlim([0, flat_alternating_onion.shape[0]])\n",
    "plt.show()\n",
    "\n",
    "plt.plot(x_vals[:], flat_alternating_onion[:], '.', linewidth=1, color=np.random.rand(3,1))\n",
    "plt.ylabel(\"integer passed into base_n coordinate generator\")\n",
    "plt.xlabel(\"iterator value\")\n",
    "plt.ylim([85000, 200000])\n",
    "plt.xlim([0, 10000])\n",
    "plt.show()  \n",
    "\n",
    "plt.plot(x_vals[:], flat_alternating_onion[:], '.', linewidth=1, color=np.random.rand(3,1))\n",
    "plt.ylabel(\"integer passed into base_n coordinate generator\")\n",
    "plt.xlabel(\"iterator value\")\n",
    "plt.ylim([125000, 155000])\n",
    "plt.xlim([0, 160])\n",
    "plt.show()\n",
    "\n",
    "plt.plot(x_vals[:], flat_alternating_onion[:], '.', linewidth=1, color=np.random.rand(3,1))\n",
    "plt.ylabel(\"integer passed into base_n coordinate generator\")\n",
    "plt.xlabel(\"iterator value\")\n",
    "plt.ylim([127000, 145000])\n",
    "plt.xlim([0, 40])\n",
    "plt.show()  \n",
    "\n",
    "plt.plot(x_vals[:], flat_alternating_onion[:], '.', color=np.random.rand(3,1))\n",
    "plt.ylabel(\"integer passed into base_n coordinate generator\")\n",
    "plt.xlabel(\"iterator value\")\n",
    "plt.ylim(135000,142000)\n",
    "plt.xlim([-1, 5])\n",
    "plt.show()"
   ]
  },
  {
   "cell_type": "markdown",
   "metadata": {
    "collapsed": true
   },
   "source": [
    "the cartesian plots above show regular - if square-wave-like - patterns in the iteration around the outside of the cube (moving from one corner of an inner cube to the adjacent corner of it's outer neighbor, zipping back and forth as such) - still - how can we develop a linear approximation (where we need much more than a merely approximate answer)?"
   ]
  },
  {
   "cell_type": "code",
   "execution_count": null,
   "metadata": {
    "collapsed": false,
    "scrolled": true
   },
   "outputs": [],
   "source": [
    "normal_fao = (np.asarray(flat_alternating_onion) / flat_alternating_onion.shape[0]) - .5\n",
    "x_vals = np.arange(flat_alternating_onion.shape[0])\n",
    "\n",
    "plt.plot(x_vals[:], normal_fao[:], linewidth=1, color=np.random.rand(3,1))\n",
    "plt.ylabel(\"ratio of integer to retina area shifted down by 1/2\")\n",
    "plt.xlabel(\"iterator value\")\n",
    "plt.xlim([0, flat_alternating_onion.shape[0]])\n",
    "plt.show()\n"
   ]
  },
  {
   "cell_type": "markdown",
   "metadata": {
    "collapsed": true
   },
   "source": [
    "let's play 'build this curve'\n",
    "ultimately, I'd like to perform Fourier Analysis on the flat_alternating_onion\n",
    "but I have two questions that need to be answered:\n",
    "1. does a waveform need to be normalized for FA?\n",
    "  1. e.g. this curve has some linear increase in amplitude and a log-linear decrease in frequency\n",
    "1. do the sample points need recurrence?\n",
    "  1. this curve is built from a set of y values and a set of x values, where each is a valid set, containing only one instance of any given value. this is pretty crucial to the *use* of this curve.\n",
    "    * BUT! we can subdivide this curve, as long as the integer x-values map to the integer Y values in such a way that we can iterate and encode!\n",
    "    * such subdivision would result in repeated Y-values, perhaps making Fourier analysis possible\n",
    "    \n",
    "My intuition tells me that the first point may be irrelevant, but that normalizing the curve is just a matter of finding the scalar and log coefficients to describe amplitude and frequency shifts.\n",
    "\n",
    "Similarly, the second point is probably key to solving this puzzle, as we are trying to discover a linear approach to this dataset: fourier analysis is probably impossible without some sort of cyclicality on the Y axis ;D"
   ]
  },
  {
   "cell_type": "code",
   "execution_count": null,
   "metadata": {
    "collapsed": false
   },
   "outputs": [],
   "source": [
    "#interpolation time!\n",
    "\n",
    "ip_x_vals = np.arange(x_vals.shape[0], step=.1)\n",
    "\n",
    "interpolated_fao = np.interp(ip_x_vals, x_vals, normal_fao)\n",
    "\n",
    "plt.plot(ip_x_vals[:], interpolated_fao[:], '.', color=np.random.rand(3,1))\n",
    "plt.ylabel(\"ratio of integer to retina area shifted down by 1/2\")\n",
    "plt.xlabel(\"iterator value\")\n",
    "plt.xlim([0, flat_alternating_onion.shape[0]])\n",
    "plt.show()\n",
    "\n",
    "plt.plot(ip_x_vals[:], interpolated_fao[:], '.', color=np.random.rand(3,1))\n",
    "plt.ylabel(\"ratio of integer to retina area shifted down by 1/2\")\n",
    "plt.xlabel(\"iterator value\")\n",
    "plt.xlim([0, 10000])\n",
    "plt.ylim([-.2,.2])\n",
    "plt.show()\n",
    "\n",
    "plt.plot(ip_x_vals[:], interpolated_fao[:], '.', color=np.random.rand(3,1))\n",
    "plt.ylabel(\"ratio of integer to retina area shifted down by 1/2\")\n",
    "plt.xlabel(\"iterator value\")\n",
    "plt.xlim([0, 160])\n",
    "plt.ylim([-.1,.1])\n",
    "plt.show()\n",
    "\n",
    "plt.plot(ip_x_vals[:], interpolated_fao[:], '.', color=np.random.rand(3,1))\n",
    "plt.ylabel(\"ratio of integer to retina area shifted down by 1/2\")\n",
    "plt.xlabel(\"iterator value\")\n",
    "plt.xlim([0, 40])\n",
    "plt.ylim([-.05,.05])\n",
    "plt.show()\n",
    "\n",
    "plt.plot(ip_x_vals[:], interpolated_fao[:], '.', color=np.random.rand(3,1))\n",
    "plt.ylabel(\"ratio of integer to retina area shifted down by 1/2\")\n",
    "plt.xlabel(\"iterator value\")\n",
    "plt.xlim([0, 5])\n",
    "plt.ylim([-.025,.025])\n",
    "plt.show()\n",
    "\n"
   ]
  },
  {
   "cell_type": "code",
   "execution_count": null,
   "metadata": {
    "collapsed": false
   },
   "outputs": [],
   "source": [
    "fao_fft = np.fft.rfft(normal_fao)\n",
    "fao_freq = np.fft.rfftfreq(x_vals.shape[-1])\n",
    "\n",
    "plt.plot(fao_freq, fao_fft.real, color='blue')\n",
    "plt.plot(fao_freq ,fao_fft.imag, color='red')\n",
    "plt.xlim([0,.0005])\n",
    "plt.show()\n",
    "\n",
    "plt.plot(fao_freq, np.round(np.abs(fao_fft),0), color='blue')\n",
    "plt.xlim([0,.00075])\n",
    "plt.show()\n",
    "\n",
    "fao_fft = np.fft.rfft(interpolated_fao)\n",
    "fao_freq = np.fft.rfftfreq(ip_x_vals.shape[-1])\n",
    "\n",
    "plt.plot(fao_freq, fao_fft.real, color='blue')\n",
    "plt.plot(fao_freq ,fao_fft.imag, color='red')\n",
    "plt.xlim([0,.00005])\n",
    "plt.show()\n",
    "\n",
    "plt.plot(fao_freq, np.round(np.abs(fao_fft),0), color='blue')\n",
    "plt.xlim([0,.000075])\n",
    "plt.show()\n"
   ]
  },
  {
   "cell_type": "code",
   "execution_count": null,
   "metadata": {
    "collapsed": false
   },
   "outputs": [],
   "source": [
    "from scipy.optimize import leastsq\n",
    "\n",
    "data = normal_fao\n",
    "\n",
    "guess_mean = np.mean(data)\n",
    "guess_std = 3 * np.std(data)/(2**0.5)\n",
    "guess_phase = 0\n",
    "\n",
    "data_first_guess = guess_std*np.sin(x_vals+guess_phase) + guess_mean\n",
    "\n",
    "optimize_guess = lambda x: x[0] * np.sin(x_vals+x[1]) + x[2] - data\n",
    "\n",
    "est_std, est_phase, est_mean = leastsq(optimize_guess, [guess_std, guess_phase, guess_mean])[0]\n",
    "\n",
    "data_fit = est_std*np.sin(x_vals+est_phase) + est_mean\n",
    "    \n",
    "plt.plot(data_first_guess, label='first guess')\n",
    "plt.plot(data_fit, label='after fitting')\n",
    "plt.plot(x_vals[:], normal_fao[:], '.', color=np.random.rand(3,1))\n",
    "plt.legend()\n",
    "plt.xlim([0,280000])\n",
    "plt.show()\n",
    "\n",
    "plt.plot(data_first_guess, label='first guess')\n",
    "plt.plot(data_fit, label='after fitting')\n",
    "plt.plot(x_vals[:], normal_fao[:], '.', color=np.random.rand(3,1))\n",
    "plt.legend()\n",
    "plt.xlim([0,1000])\n",
    "plt.show()\n",
    "\n",
    "plt.plot(data_first_guess, label='first guess')\n",
    "plt.plot(data_fit, label='after fitting')\n",
    "plt.plot(x_vals[:], normal_fao[:], '.', color=np.random.rand(3,1))\n",
    "plt.legend()\n",
    "plt.xlim([0,100])\n",
    "plt.show()"
   ]
  },
  {
   "cell_type": "markdown",
   "metadata": {},
   "source": [
    "the last codeblock tries to emulate our wave with a vanilla sine wave.\n",
    "\n",
    "but let's try to understand the actual values of the curves and their lengths.\n",
    "\n",
    "1. Each period is actually the iteration across two nested cube surfaces!\n",
    "  * starting from a peak and iterating down to a trough iterates over the surface of a cube with some edge-length *m* where m has some effect on:\n",
    "    * the amplitude of the half-period\n",
    "    * the 'frequency' of the half-period (the number of x-axis integers it takes to reach the trough from the peak)\n",
    "    * the 'steps' that are present in the graph of each half-period\n",
    "       * ^ take note of this, as this iterator sometimes moves contiguously on the y-axis and sometimes jumps in some way that is determined by m\n",
    "1. the log-linear and linear coefficients that are modulating this away from a regular sine wave are tied to the function of a cube's surface! i.e. for cube with edge-length *m* SA(m) = 6 * (m * m)"
   ]
  },
  {
   "cell_type": "code",
   "execution_count": null,
   "metadata": {
    "collapsed": false,
    "scrolled": true
   },
   "outputs": [],
   "source": [
    "data = normal_fao\n",
    "\n",
    "init_phase = 0\n",
    "init_frequency = 27\n",
    "exponential_coef = np.full((normal_fao.shape[0]), 2)\n",
    "\n",
    "drive = np.arange(normal_fao.shape[0])\n",
    "\n",
    "f = np.arange(normal_fao.shape[0]) ** .05\n",
    "a = np.arange(normal_fao.shape[0])\n",
    "idealized = np.sin(2 * np.pi * a * f)\n",
    "\n",
    "    \n",
    "plt.plot(idealized, label='first guess')\n",
    "plt.plot(x_vals[:], normal_fao[:], '.', color=np.random.rand(3,1))\n",
    "plt.legend()\n",
    "plt.xlim([0,10000])\n",
    "plt.show()"
   ]
  },
  {
   "cell_type": "code",
   "execution_count": null,
   "metadata": {
    "collapsed": true
   },
   "outputs": [],
   "source": []
  },
  {
   "cell_type": "code",
   "execution_count": null,
   "metadata": {
    "collapsed": true
   },
   "outputs": [],
   "source": []
  }
 ],
 "metadata": {
  "kernelspec": {
   "display_name": "Python 2",
   "language": "python",
   "name": "python2"
  },
  "language_info": {
   "codemirror_mode": {
    "name": "ipython",
    "version": 2
   },
   "file_extension": ".py",
   "mimetype": "text/x-python",
   "name": "python",
   "nbconvert_exporter": "python",
   "pygments_lexer": "ipython2",
   "version": "2.7.6"
  }
 },
 "nbformat": 4,
 "nbformat_minor": 0
}
