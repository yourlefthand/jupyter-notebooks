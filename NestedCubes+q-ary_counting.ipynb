{
 "cells": [
  {
   "cell_type": "markdown",
   "metadata": {},
   "source": [
    "# Q-Ary Counting+Cube Iteration"
   ]
  },
  {
   "cell_type": "code",
   "execution_count": null,
   "metadata": {
    "collapsed": false
   },
   "outputs": [],
   "source": [
    "%matplotlib inline"
   ]
  },
  {
   "cell_type": "markdown",
   "metadata": {},
   "source": [
    "So, counting in a base q system with n dimensions will resolve the various n-dimensional points within a system of size q\n",
    "\n",
    "This gives us a good system for generating combinations for a symmetrical coordinate system - line, square, cube, tesseract\n",
    "\n",
    "this maps a linear, natural sequence range(q^n) for example - to iterate across the n-space\n",
    "\n",
    "this topology can be manipulated arithmetically for relative shifts in space. \n",
    "\n",
    "but more interestingly, the sequence of natural numbers can be re-mapped to some other counting such that the 'unwrapping' of the coordinate system does not take the 'usual' bottom corner to top opposite corner - but some other pattern represented in the internal coherence of the q-ary counting system"
   ]
  },
  {
   "cell_type": "code",
   "execution_count": null,
   "metadata": {
    "collapsed": true
   },
   "outputs": [],
   "source": [
    "import numpy as np\n",
    "\n",
    "def base_n_encode(base, bits, value):\n",
    "    base_n = [None] * bits\n",
    "    for i in range(bits):\n",
    "        base_n[i] = value % base\n",
    "        value = value / base\n",
    "    return base_n"
   ]
  },
  {
   "cell_type": "markdown",
   "metadata": {},
   "source": [
    "above we have the function that will take a base counting system, a number of 'bits' (digits really, whatever y'all) and the (base-10) integer that we want to encode. I know this isn't terribly pythonic, but it's really just C code I'm recycling"
   ]
  },
  {
   "cell_type": "code",
   "execution_count": null,
   "metadata": {
    "collapsed": false
   },
   "outputs": [],
   "source": [
    "dimensions = 3\n",
    "cube_edge = 65\n",
    "cuboid_three_edge = 3\n",
    "cuboid_five_edge = 5\n",
    "cuboid_seven_edge = 7 \n",
    "cuboid_thirty_three_edge = 33\n",
    "\n",
    "cube = np.asarray([(np.asarray(base_n_encode(cube_edge, dimensions, x)) - (cube_edge/2)) for x in np.arange(cube_edge ** dimensions)])\n",
    "\n",
    "cuboid_three = np.asarray([(np.asarray(base_n_encode(cuboid_three_edge, dimensions, x)) - (cuboid_three_edge/2)) for x in np.arange(cuboid_three_edge ** dimensions)])\n",
    "\n",
    "cuboid_five = np.asarray([(np.asarray(base_n_encode(cuboid_five_edge, dimensions, x)) - (cuboid_five_edge/2)) for x in np.arange(cuboid_five_edge ** dimensions)])\n",
    "\n",
    "cuboid_seven = np.asarray([(np.asarray(base_n_encode(cuboid_seven_edge, dimensions, x)) - (cuboid_seven_edge/2)) for x in np.arange(cuboid_seven_edge ** dimensions)])\n",
    "\n",
    "cuboid_thirty_three = np.asarray([(np.asarray(base_n_encode(cuboid_thirty_three_edge, dimensions, x)) - (cuboid_thirty_three_edge/2)) for x in np.arange(cuboid_thirty_three_edge ** dimensions)])"
   ]
  },
  {
   "cell_type": "code",
   "execution_count": null,
   "metadata": {
    "collapsed": false
   },
   "outputs": [],
   "source": [
    "import numpy as np\n",
    "from mpl_toolkits.mplot3d import Axes3D\n",
    "import matplotlib.pyplot as plt\n",
    "\n",
    "def plot_3d(points):\n",
    "    fig = plt.figure()\n",
    "    ax = fig.add_subplot(1,1,1, projection='3d')\n",
    "    surf = ax.scatter(points[:,0],points[:,1],points[:,2], c = (points[:,0] + points[:,1]))\n",
    "    plt.gca().set_aspect('equal', adjustable='box')\n",
    "    plt.show()\n",
    "\n",
    "plot_3d(cuboid_three)\n",
    "plot_3d(cuboid_five)\n",
    "plot_3d(cuboid_seven)\n",
    "plot_3d(cuboid_thirty_three)"
   ]
  },
  {
   "cell_type": "markdown",
   "metadata": {},
   "source": [
    "above we created 4 cubes with sides of those given lengths.\n",
    "the cube & cuboids above have also been 'centered' such that each row gives a relative coordinate system to the origin. If we discover the interrelationships of these coordinates within these three systems, we may be able to intuit other alternative numbering systems that would let us walk cubes in fun ways"
   ]
  },
  {
   "cell_type": "code",
   "execution_count": null,
   "metadata": {
    "collapsed": false
   },
   "outputs": [],
   "source": [
    "cube_indices = np.arange(cube_edge ** dimensions)\n",
    "cuboid_three_indices = np.ravel([np.where((cube == x).all(axis=1))[0] for x in cuboid_three])\n",
    "cuboid_five_indices = np.ravel([np.where((cube == x).all(axis=1))[0] for x in cuboid_five])\n",
    "cuboid_seven_indices = np.ravel([np.where((cube == x).all(axis=1))[0] for x in cuboid_seven])\n",
    "cuboid_thirty_three_indices = np.ravel([np.where((cube == x).all(axis=1))[0] for x in cuboid_thirty_three])"
   ]
  },
  {
   "cell_type": "code",
   "execution_count": null,
   "metadata": {
    "collapsed": false,
    "scrolled": true
   },
   "outputs": [],
   "source": [
    "def plot_1d(points,offset,color):\n",
    "    plt.plot(points, np.zeros_like(points)+offset, 'x', c=color)\n",
    "\n",
    "plot_1d(np.asarray([137312]), 0, 'black')\n",
    "plot_1d(cuboid_three_indices, 1, 'blue')\n",
    "plot_1d(cuboid_five_indices, 2, 'green')\n",
    "plot_1d(cuboid_seven_indices, 3, 'red')\n",
    "plot_1d(cuboid_thirty_three_indices, 4, 'magenta')\n",
    "plot_1d(cube_indices, 5, 'cyan')\n",
    "\n",
    "plt.xlim([-25375, 300000])\n",
    "plt.ylim([-1,6])\n",
    "plt.show()"
   ]
  },
  {
   "cell_type": "markdown",
   "metadata": {},
   "source": [
    "Above, we map the coordinate pairs of each cuboid to the corresponding index in the largest cuboid, by getting the unique coordinates from each of these subsystems, we can iterate from the interior of this system to the exterior. Let's take a shot at that. Let's attempt to create these same cubes, but this time, only include the UNIQUE values in the 'indices' arrays. We'll start with cuboid_three and converge on the major cube"
   ]
  },
  {
   "cell_type": "code",
   "execution_count": null,
   "metadata": {
    "collapsed": false,
    "scrolled": true
   },
   "outputs": [],
   "source": [
    "start_edge = 1\n",
    "end_edge = 65\n",
    "onion_cube = []\n",
    "grow_indices = np.zeros([0])\n",
    "\n",
    "for j in range(1, 67, 2):\n",
    "    # get cube of size j x j x j\n",
    "    instance_cube = np.asarray([(np.asarray(base_n_encode(j, dimensions, x)) - (j/2)) for x in np.arange(j ** dimensions)])\n",
    "    # return the indices of that cube in the context of the a cube of dimensions end_edge x end_edge x end_edge (cube)\n",
    "    instance_indices = np.ravel([np.where((cube == x).all(axis=1))[0] for x in instance_cube])\n",
    "    # find an array with the instance indices that are not present in the existing indices\n",
    "    diff_indices = np.setdiff1d(instance_indices, grow_indices)\n",
    "    # grow the diff set so it represents the current observed cuboid\n",
    "    grow_indices = instance_indices\n",
    "    # append the value to the ordered index set\n",
    "    onion_cube.append(diff_indices)\n",
    "    \n",
    "print onion_cube\n",
    "    "
   ]
  },
  {
   "cell_type": "markdown",
   "metadata": {},
   "source": [
    "note for the above: I'm bein stupid. we do not need the ravel stage.\n",
    "we simply need to re-encode the base-j numbers (i.e. the arrays represintings cubes of size jxjxj) in base-m where m is the edge size of the retina"
   ]
  }
 ],
 "metadata": {
  "kernelspec": {
   "display_name": "Python 2",
   "language": "python",
   "name": "python2"
  },
  "language_info": {
   "codemirror_mode": {
    "name": "ipython",
    "version": 2
   },
   "file_extension": ".py",
   "mimetype": "text/x-python",
   "name": "python",
   "nbconvert_exporter": "python",
   "pygments_lexer": "ipython2",
   "version": "2.7.6"
  }
 },
 "nbformat": 4,
 "nbformat_minor": 0
}
