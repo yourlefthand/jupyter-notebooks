{
 "cells": [
  {
   "cell_type": "markdown",
   "metadata": {},
   "source": [
    "# Q-Ary Counting+Cube Iteration"
   ]
  },
  {
   "cell_type": "code",
   "execution_count": null,
   "metadata": {
    "collapsed": false
   },
   "outputs": [],
   "source": [
    "%matplotlib inline"
   ]
  },
  {
   "cell_type": "markdown",
   "metadata": {},
   "source": [
    "So, counting in a base q system with n dimensions will resolve the various n-dimensional points within a system of size q\n",
    "\n",
    "This gives us a good system for generating combinations for a symmetrical coordinate system - line, square, cube, tesseract\n",
    "\n",
    "this maps a linear, natural sequence range(q^n) for example - to iterate across the n-space\n",
    "\n",
    "this topology can be manipulated arithmetically for relative shifts in space. \n",
    "\n",
    "but more interestingly, the sequence of natural numbers can be re-mapped to some other counting such that the 'unwrapping' of the coordinate system does not take the 'usual' bottom corner to top opposite corner - but some other pattern represented in the internal coherence of the q-ary counting system"
   ]
  },
  {
   "cell_type": "code",
   "execution_count": null,
   "metadata": {
    "collapsed": true
   },
   "outputs": [],
   "source": [
    "import numpy as np\n",
    "\n",
    "def base_n_encode(base, bits, value):\n",
    "    base_n = [None] * bits\n",
    "    for i in range(bits):\n",
    "        base_n[i] = value % base\n",
    "        value = value / base\n",
    "    return base_n"
   ]
  },
  {
   "cell_type": "markdown",
   "metadata": {},
   "source": [
    "above we have the function that will take a base counting system, a number of 'bits' (digits really, whatever y'all) and the (base-10) integer that we want to encode. I know this isn't terribly pythonic, but it's really just C code I'm recycling"
   ]
  },
  {
   "cell_type": "code",
   "execution_count": null,
   "metadata": {
    "collapsed": false
   },
   "outputs": [],
   "source": [
    "dimensions = 3\n",
    "cube_edge = 65\n",
    "cuboid_three_edge = 3\n",
    "cuboid_five_edge = 5\n",
    "cuboid_seven_edge = 7 \n",
    "cuboid_thirty_three_edge = 33\n",
    "\n",
    "cube = np.asarray([(np.asarray(base_n_encode(cube_edge, dimensions, x)) - (cube_edge/2)) for x in np.arange(cube_edge ** dimensions)])\n",
    "\n",
    "cuboid_three = np.asarray([(np.asarray(base_n_encode(cuboid_three_edge, dimensions, x)) - (cuboid_three_edge/2)) for x in np.arange(cuboid_three_edge ** dimensions)])\n",
    "\n",
    "cuboid_five = np.asarray([(np.asarray(base_n_encode(cuboid_five_edge, dimensions, x)) - (cuboid_five_edge/2)) for x in np.arange(cuboid_five_edge ** dimensions)])\n",
    "\n",
    "cuboid_seven = np.asarray([(np.asarray(base_n_encode(cuboid_seven_edge, dimensions, x)) - (cuboid_seven_edge/2)) for x in np.arange(cuboid_seven_edge ** dimensions)])\n",
    "\n",
    "cuboid_thirty_three = np.asarray([(np.asarray(base_n_encode(cuboid_thirty_three_edge, dimensions, x)) - (cuboid_thirty_three_edge/2)) for x in np.arange(cuboid_thirty_three_edge ** dimensions)])"
   ]
  },
  {
   "cell_type": "code",
   "execution_count": null,
   "metadata": {
    "collapsed": false
   },
   "outputs": [],
   "source": [
    "import numpy as np\n",
    "from mpl_toolkits.mplot3d import Axes3D\n",
    "import matplotlib.pyplot as plt\n",
    "\n",
    "def plot_3d(points):\n",
    "    fig = plt.figure()\n",
    "    ax = fig.add_subplot(1,1,1, projection='3d')\n",
    "    surf = ax.scatter(points[:,0],points[:,1],points[:,2], c = (points[:,0] + points[:,1]))\n",
    "    plt.gca().set_aspect('equal', adjustable='box')\n",
    "    plt.show()\n",
    "\n",
    "plot_3d(cuboid_three)\n",
    "plot_3d(cuboid_five)\n",
    "plot_3d(cuboid_seven)\n",
    "plot_3d(cuboid_thirty_three)"
   ]
  },
  {
   "cell_type": "markdown",
   "metadata": {},
   "source": [
    "above we created 4 cubes with sides of those given lengths.\n",
    "the cube & cuboids above have also been 'centered' such that each row gives a relative coordinate system to the origin. If we discover the interrelationships of these coordinates within these three systems, we may be able to intuit other alternative numbering systems that would let us walk cubes in fun ways"
   ]
  },
  {
   "cell_type": "code",
   "execution_count": null,
   "metadata": {
    "collapsed": true
   },
   "outputs": [],
   "source": [
    "def wrap_cube(edge, dimensions, center=True):\n",
    "    drive = np.arange(edge ** dimensions)\n",
    "    coords = np.zeros((edge ** dimensions, dimensions))\n",
    "    for d in range(dimensions):\n",
    "        coords[:, d] = (drive[:]/(edge ** d)) % edge\n",
    "    if center:\n",
    "        coords = coords - (edge/2)\n",
    "    return coords\n",
    "\n",
    "def unwrap_cube(cube, base, centered=True):\n",
    "    indices = np.zeros((cube.shape[0]))\n",
    "    dimensions = cube.shape[1]\n",
    "    if centered:\n",
    "        cube = cube + (base/2)\n",
    "    for d in range(dimensions):\n",
    "        indices[:] += cube[:,d] * (base ** d)\n",
    "    return indices"
   ]
  },
  {
   "cell_type": "markdown",
   "metadata": {},
   "source": [
    "I've refactored our discoveries above - now we have a (mostly) numpy oriented method for creating our 'cubes' - O(n) where n is the number of dimensions being iterated on.\n",
    "\n",
    "Similarly, unwrap cube performs the function of the 'ravel' above.\n",
    "Here we put the cube we're unwrapping in the 'context' of a counting base - the size of the retina, then counts the numbers back out - giving us the 'indices' of the coordinates in context of that major cube !\n",
    "\n",
    "next, we'll try to put these cubes in context of one another, in an effort "
   ]
  },
  {
   "cell_type": "code",
   "execution_count": null,
   "metadata": {
    "collapsed": false
   },
   "outputs": [],
   "source": [
    "total_cube = [np.zeros(0)]\n",
    "onion_cube = []\n",
    "\n",
    "retina_size = 65\n",
    "\n",
    "for j in range(1, 67, 2):\n",
    "    this_cube = wrap_cube(j, dimensions)\n",
    "    unwrap_this_cube = unwrap_cube(this_cube, retina_size)\n",
    "    onion_cube.append(np.setdiff1d(unwrap_this_cube, total_cube[-1]))\n",
    "    total_cube.append(unwrap_this_cube)\n",
    "    "
   ]
  },
  {
   "cell_type": "code",
   "execution_count": null,
   "metadata": {
    "collapsed": false
   },
   "outputs": [],
   "source": [
    "def plot_1d(points,offset,color):\n",
    "    plt.plot(points, np.zeros_like(points)+offset, 'x', c=color)\n",
    "    \n",
    "for ind, val in enumerate(onion_cube):\n",
    "    plot_1d(val, ind, np.random.rand(3,1))\n",
    "    \n",
    "plt.xlim([-25375, 300000])\n",
    "plt.show()"
   ]
  },
  {
   "cell_type": "code",
   "execution_count": null,
   "metadata": {
    "collapsed": false
   },
   "outputs": [],
   "source": [
    "flat_onion = np.concatenate(onion_cube)\n",
    "x_vals = np.arange(flat_onion.shape[0])\n",
    "\n",
    "plt.plot(x_vals[:], flat_onion[:], 'x', color=np.random.rand(3,1))\n",
    "plt.ylabel(\"integer passed into base_n coordinate generator\")\n",
    "plt.xlabel(\"iterator value\")\n",
    "plt.xlim([0, flat_onion.shape[0]])\n",
    "plt.show()\n"
   ]
  },
  {
   "cell_type": "markdown",
   "metadata": {},
   "source": [
    "now: in polar coords:"
   ]
  },
  {
   "cell_type": "code",
   "execution_count": null,
   "metadata": {
    "collapsed": false
   },
   "outputs": [],
   "source": [
    "r = (flat_onion / flat_onion.shape[0])\n",
    "theta = 2 * np.pi * r\n",
    "\n",
    "print theta\n",
    "\n",
    "ax = plt.subplot(111, projection='polar')\n",
    "ax.plot(theta, r, color='r', linewidth=1)\n",
    "ax.grid(True)\n",
    "\n",
    "ax.set_title(\"A line plot on a polar axis\", va='bottom')\n",
    "plt.show()"
   ]
  },
  {
   "cell_type": "code",
   "execution_count": null,
   "metadata": {
    "collapsed": false
   },
   "outputs": [],
   "source": [
    "alternating_onion_cube = []\n",
    "\n",
    "for ind, val in enumerate(onion_cube):\n",
    "    if (ind % 2 == 1):\n",
    "        val = val[::-1]\n",
    "    alternating_onion_cube.append(val)\n",
    "    \n",
    "flat_alternating_onion = np.concatenate(alternating_onion_cube)    \n",
    "\n",
    "x_vals = np.arange(flat_alternating_onion.shape[0])\n",
    "\n",
    "plt.plot(x_vals[:], flat_alternating_onion[:], linewidth=1, color=np.random.rand(3,1))\n",
    "plt.ylabel(\"integer passed into base_n coordinate generator\")\n",
    "plt.xlabel(\"iterator value\")\n",
    "plt.xlim([0, flat_alternating_onion.shape[0]])\n",
    "plt.show()        "
   ]
  },
  {
   "cell_type": "code",
   "execution_count": null,
   "metadata": {
    "collapsed": false
   },
   "outputs": [],
   "source": [
    "r = (flat_alternating_onion / flat_alternating_onion.shape[0])\n",
    "theta = 2 * np.pi * r\n",
    "\n",
    "print theta\n",
    "\n",
    "ax = plt.subplot(111, projection='polar')\n",
    "ax.plot(theta, r, color='r', linewidth=1)\n",
    "ax.grid(True)\n",
    "\n",
    "ax.set_title(\"A line plot on a polar axis\", va='bottom')\n",
    "plt.show()"
   ]
  },
  {
   "cell_type": "code",
   "execution_count": null,
   "metadata": {
    "collapsed": true
   },
   "outputs": [],
   "source": []
  }
 ],
 "metadata": {
  "kernelspec": {
   "display_name": "Python 2",
   "language": "python",
   "name": "python2"
  },
  "language_info": {
   "codemirror_mode": {
    "name": "ipython",
    "version": 2
   },
   "file_extension": ".py",
   "mimetype": "text/x-python",
   "name": "python",
   "nbconvert_exporter": "python",
   "pygments_lexer": "ipython2",
   "version": "2.7.6"
  }
 },
 "nbformat": 4,
 "nbformat_minor": 0
}
