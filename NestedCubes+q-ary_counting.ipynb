{
 "cells": [
  {
   "cell_type": "markdown",
   "metadata": {},
   "source": [
    "# Q-Ary Counting+Cube Iteration"
   ]
  },
  {
   "cell_type": "code",
   "execution_count": 1,
   "metadata": {
    "collapsed": false
   },
   "outputs": [],
   "source": [
    "%pylab inline"
   ]
  },
  {
   "cell_type": "markdown",
   "metadata": {},
   "source": [
    "So, counting in a base q system with n dimensions will resolve the various n-dimensional points within a system of size q\n",
    "\n",
    "This gives us a good system for generating combinations for a symmetrical coordinate system - line, square, cube, tesseract\n",
    "\n",
    "this maps a linear, natural sequence range(q^n) for example - to iterate across the n-space\n",
    "\n",
    "this topology can be manipulated arithmetically for relative shifts in space. \n",
    "\n",
    "but more interestingly, the sequence of natural numbers can be re-mapped to some other counting such that the 'unwrapping' of the coordinate system does not take the 'usual' bottom corner to top opposite corner - but some other pattern represented in the internal coherence of the q-ary counting system"
   ]
  },
  {
   "cell_type": "code",
   "execution_count": 2,
   "metadata": {
    "collapsed": true
   },
   "outputs": [],
   "source": [
    "import numpy as np\n",
    "\n",
    "def base_n_encode(base, bits, value):\n",
    "    base_n = [None] * bits\n",
    "    for i in range(bits):\n",
    "        base_n[i] = value % base\n",
    "        value = value / base\n",
    "    return base_n"
   ]
  },
  {
   "cell_type": "markdown",
   "metadata": {},
   "source": [
    "above we have the function that will take a base counting system, a number of 'bits' (digits really, whatever y'all) and the (base-10) integer that we want to encode. I know this isn't terribly pythonic, but it's really just C code I'm recycling"
   ]
  },
  {
   "cell_type": "code",
   "execution_count": 7,
   "metadata": {
    "collapsed": false
   },
   "outputs": [],
   "source": [
    "dimensions = 3\n",
    "cube_edge = 65\n",
    "cuboid_three_edge = 3\n",
    "cuboid_five_edge = 5\n",
    "cuboid_seven_edge = 7 \n",
    "cuboid_thirty_three_edge = 33\n",
    "\n",
    "cube = np.asarray([(np.asarray(base_n_encode(cube_edge, dimensions, x)) - (cube_edge/2)) for x in np.arange(cube_edge ** dimensions)])\n",
    "\n",
    "cuboid_three = np.asarray([(np.asarray(base_n_encode(cuboid_three_edge, dimensions, x)) - (cuboid_three_edge/2)) for x in np.arange(cuboid_three_edge ** dimensions)])\n",
    "\n",
    "cuboid_five = np.asarray([(np.asarray(base_n_encode(cuboid_five_edge, dimensions, x)) - (cuboid_five_edge/2)) for x in np.arange(cuboid_five_edge ** dimensions)])\n",
    "\n",
    "cuboid_seven = np.asarray([(np.asarray(base_n_encode(cuboid_seven_edge, dimensions, x)) - (cuboid_seven_edge/2)) for x in np.arange(cuboid_seven_edge ** dimensions)])\n",
    "\n",
    "cuboid_thirty_three = np.asarray([(np.asarray(base_n_encode(cuboid_thirty_three_edge, dimensions, x)) - (cuboid_thirty_three_edge/2)) for x in np.arange(cuboid_thirty_three_edge ** dimensions)])"
   ]
  },
  {
   "cell_type": "code",
   "execution_count": 8,
   "metadata": {
    "collapsed": false
   },
   "outputs": [],
   "source": [
    "import numpy as np\n",
    "from mpl_toolkits.mplot3d import Axes3D\n",
    "import matplotlib.pyplot as plt\n",
    "\n",
    "def plot_3d(points):\n",
    "    fig = plt.figure()\n",
    "    ax = fig.add_subplot(1,1,1, projection='3d')\n",
    "    surf = ax.scatter(points[:,0],points[:,1],points[:,2], c = (points[:,0] + points[:,1]))\n",
    "    plt.gca().set_aspect('equal', adjustable='box')\n",
    "    plt.show()\n",
    "\n",
    "plot_3d(cuboid_three)\n",
    "plot_3d(cuboid_five)\n",
    "plot_3d(cuboid_seven)\n",
    "plot_3d(cuboid_thirty_three)"
   ]
  },
  {
   "cell_type": "markdown",
   "metadata": {},
   "source": [
    "above we created 4 cubes with sides of those given lengths.\n",
    "the cube & cuboids above have also been 'centered' such that each row gives a relative coordinate system to the origin. If we discover the interrelationships of these coordinates within these three systems, we may be able to intuit other alternative numbering systems that would let us walk cubes in fun ways"
   ]
  },
  {
   "cell_type": "code",
   "execution_count": 9,
   "metadata": {
    "collapsed": false
   },
   "outputs": [],
   "source": [
    "cube_indices = np.arange(cube_edge ** dimensions)\n",
    "cuboid_three_indices = np.ravel([np.where((cube == x).all(axis=1))[0] for x in cuboid_three])\n",
    "cuboid_five_indices = np.ravel([np.where((cube == x).all(axis=1))[0] for x in cuboid_five])\n",
    "cuboid_seven_indices = np.ravel([np.where((cube == x).all(axis=1))[0] for x in cuboid_seven])\n",
    "cuboid_thirty_three_indices = np.ravel([np.where((cube == x).all(axis=1))[0] for x in cuboid_thirty_three])"
   ]
  },
  {
   "cell_type": "code",
   "execution_count": 13,
   "metadata": {
    "collapsed": false,
    "scrolled": true
   },
   "outputs": [],
   "source": [
    "import mpld3\n",
    "mpld3.enable_notebook()\n",
    "\n",
    "def plot_1d(points,offset,color):\n",
    "    plt.plot(points, np.zeros_like(points)+offset, 'x', c=color)\n",
    "\n",
    "plot_1d(137312, 0, 'pink')\n",
    "plot_1d(cuboid_three_indices, 1, 'blue')\n",
    "plot_1d(cuboid_five_indices, 2, 'green')\n",
    "plot_1d(cuboid_seven_indices, 3, 'red')\n",
    "plot_1d(cuboid_thirty_three_indices, 33, 'magenta')\n",
    "plot_1d(cube_indices, 65, 'black') \n",
    "\n",
    "plt.xlim([-25, 274650])\n",
    "plt.ylim([-1,66])\n",
    "plt.show()"
   ]
  },
  {
   "cell_type": "markdown",
   "metadata": {},
   "source": [
    "let's clean up those print statements and make something of this!\n",
    "maybe lean on pandas or something? what's the best way to extract a numeric pattern?"
   ]
  }
 ],
 "metadata": {
  "kernelspec": {
   "display_name": "Python 2",
   "language": "python",
   "name": "python2"
  },
  "language_info": {
   "codemirror_mode": {
    "name": "ipython",
    "version": 2
   },
   "file_extension": ".py",
   "mimetype": "text/x-python",
   "name": "python",
   "nbconvert_exporter": "python",
   "pygments_lexer": "ipython2",
   "version": "2.7.6"
  }
 },
 "nbformat": 4,
 "nbformat_minor": 0
}
